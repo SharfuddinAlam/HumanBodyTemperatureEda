{
 "cells": [
  {
   "cell_type": "markdown",
   "metadata": {},
   "source": [
    "# What is the True Normal Human Body Temperature? \n",
    "\n",
    "#### Background\n",
    "\n",
    "The mean normal body temperature was held to be 37$^{\\circ}$C or 98.6$^{\\circ}$F for more than 120 years since it was first conceptualized and reported by Carl Wunderlich in a famous 1868 book. But, is this value statistically correct?"
   ]
  },
  {
   "cell_type": "markdown",
   "metadata": {},
   "source": [
    "<div class=\"span5 alert alert-info\">\n",
    "<h3>Exercises</h3>\n",
    "\n",
    "<p>In this exercise, you will analyze a dataset of human body temperatures and employ the concepts of hypothesis testing, confidence intervals, and statistical significance.</p>\n",
    "\n",
    "<p>Answer the following questions <b>in this notebook below and submit to your Github account</b>.</p> \n",
    "\n",
    "<ol>\n",
    "<li>  Is the distribution of body temperatures normal? \n",
    "    <ul>\n",
    "    <li> Although this is not a requirement for CLT to hold (read CLT carefully), it gives us some peace of mind that the population may also be normally distributed if we assume that this sample is representative of the population.\n",
    "    </ul>\n",
    "<li>  Is the sample size large? Are the observations independent?\n",
    "    <ul>\n",
    "    <li> Remember that this is a condition for the CLT, and hence the statistical tests we are using, to apply.\n",
    "    </ul>\n",
    "<li>  Is the true population mean really 98.6 degrees F?\n",
    "    <ul>\n",
    "    <li> Would you use a one-sample or two-sample test? Why?\n",
    "    <li> In this situation, is it appropriate to use the $t$ or $z$ statistic? \n",
    "    <li> Now try using the other test. How is the result be different? Why?\n",
    "    </ul>\n",
    "<li>  At what temperature should we consider someone's temperature to be \"abnormal\"?\n",
    "    <ul>\n",
    "    <li> Start by computing the margin of error and confidence interval.\n",
    "    </ul>\n",
    "<li>  Is there a significant difference between males and females in normal temperature?\n",
    "    <ul>\n",
    "    <li> What test did you use and why?\n",
    "    <li> Write a story with your conclusion in the context of the original problem.\n",
    "    </ul>\n",
    "</ol>\n",
    "\n",
    "You can include written notes in notebook cells using Markdown: \n",
    "   - In the control panel at the top, choose Cell > Cell Type > Markdown\n",
    "   - Markdown syntax: http://nestacms.com/docs/creating-content/markdown-cheat-sheet\n",
    "\n",
    "#### Resources\n",
    "\n",
    "+ Information and data sources: http://www.amstat.org/publications/jse/datasets/normtemp.txt, http://www.amstat.org/publications/jse/jse_data_archive.htm\n",
    "+ Markdown syntax: http://nestacms.com/docs/creating-content/markdown-cheat-sheet\n",
    "\n",
    "****\n",
    "</div>"
   ]
  },
  {
   "cell_type": "code",
   "execution_count": 5,
   "metadata": {
    "collapsed": true
   },
   "outputs": [],
   "source": [
    "import numpy as np\n",
    "import pandas as pd\n",
    "import matplotlib.pyplot as plt\n",
    "import matplotlib.mlab as mlab\n",
    "from scipy.stats import norm\n",
    "import scipy.stats\n",
    "import math"
   ]
  },
  {
   "cell_type": "code",
   "execution_count": 6,
   "metadata": {
    "collapsed": false
   },
   "outputs": [],
   "source": [
    "df = pd.read_csv('data/human_body_temperature.csv')"
   ]
  },
  {
   "cell_type": "code",
   "execution_count": 7,
   "metadata": {
    "collapsed": false
   },
   "outputs": [
    {
     "data": {
      "text/html": [
       "<div>\n",
       "<table border=\"1\" class=\"dataframe\">\n",
       "  <thead>\n",
       "    <tr style=\"text-align: right;\">\n",
       "      <th></th>\n",
       "      <th>temperature</th>\n",
       "      <th>gender</th>\n",
       "      <th>heart_rate</th>\n",
       "    </tr>\n",
       "  </thead>\n",
       "  <tbody>\n",
       "    <tr>\n",
       "      <th>0</th>\n",
       "      <td>99.3</td>\n",
       "      <td>F</td>\n",
       "      <td>68.0</td>\n",
       "    </tr>\n",
       "    <tr>\n",
       "      <th>1</th>\n",
       "      <td>98.4</td>\n",
       "      <td>F</td>\n",
       "      <td>81.0</td>\n",
       "    </tr>\n",
       "    <tr>\n",
       "      <th>2</th>\n",
       "      <td>97.8</td>\n",
       "      <td>M</td>\n",
       "      <td>73.0</td>\n",
       "    </tr>\n",
       "    <tr>\n",
       "      <th>3</th>\n",
       "      <td>99.2</td>\n",
       "      <td>F</td>\n",
       "      <td>66.0</td>\n",
       "    </tr>\n",
       "    <tr>\n",
       "      <th>4</th>\n",
       "      <td>98.0</td>\n",
       "      <td>F</td>\n",
       "      <td>73.0</td>\n",
       "    </tr>\n",
       "  </tbody>\n",
       "</table>\n",
       "</div>"
      ],
      "text/plain": [
       "   temperature gender  heart_rate\n",
       "0         99.3      F        68.0\n",
       "1         98.4      F        81.0\n",
       "2         97.8      M        73.0\n",
       "3         99.2      F        66.0\n",
       "4         98.0      F        73.0"
      ]
     },
     "execution_count": 7,
     "metadata": {},
     "output_type": "execute_result"
    }
   ],
   "source": [
    "df.head()"
   ]
  },
  {
   "cell_type": "code",
   "execution_count": 8,
   "metadata": {
    "collapsed": false
   },
   "outputs": [
    {
     "data": {
      "text/plain": [
       "130"
      ]
     },
     "execution_count": 8,
     "metadata": {},
     "output_type": "execute_result"
    }
   ],
   "source": [
    "len(df)"
   ]
  },
  {
   "cell_type": "code",
   "execution_count": 9,
   "metadata": {
    "collapsed": false
   },
   "outputs": [
    {
     "data": {
      "text/html": [
       "<div>\n",
       "<table border=\"1\" class=\"dataframe\">\n",
       "  <thead>\n",
       "    <tr style=\"text-align: right;\">\n",
       "      <th></th>\n",
       "      <th>temperature</th>\n",
       "      <th>heart_rate</th>\n",
       "    </tr>\n",
       "  </thead>\n",
       "  <tbody>\n",
       "    <tr>\n",
       "      <th>count</th>\n",
       "      <td>130.000000</td>\n",
       "      <td>130.000000</td>\n",
       "    </tr>\n",
       "    <tr>\n",
       "      <th>mean</th>\n",
       "      <td>98.249231</td>\n",
       "      <td>73.761538</td>\n",
       "    </tr>\n",
       "    <tr>\n",
       "      <th>std</th>\n",
       "      <td>0.733183</td>\n",
       "      <td>7.062077</td>\n",
       "    </tr>\n",
       "    <tr>\n",
       "      <th>min</th>\n",
       "      <td>96.300000</td>\n",
       "      <td>57.000000</td>\n",
       "    </tr>\n",
       "    <tr>\n",
       "      <th>25%</th>\n",
       "      <td>97.800000</td>\n",
       "      <td>69.000000</td>\n",
       "    </tr>\n",
       "    <tr>\n",
       "      <th>50%</th>\n",
       "      <td>98.300000</td>\n",
       "      <td>74.000000</td>\n",
       "    </tr>\n",
       "    <tr>\n",
       "      <th>75%</th>\n",
       "      <td>98.700000</td>\n",
       "      <td>79.000000</td>\n",
       "    </tr>\n",
       "    <tr>\n",
       "      <th>max</th>\n",
       "      <td>100.800000</td>\n",
       "      <td>89.000000</td>\n",
       "    </tr>\n",
       "  </tbody>\n",
       "</table>\n",
       "</div>"
      ],
      "text/plain": [
       "       temperature  heart_rate\n",
       "count   130.000000  130.000000\n",
       "mean     98.249231   73.761538\n",
       "std       0.733183    7.062077\n",
       "min      96.300000   57.000000\n",
       "25%      97.800000   69.000000\n",
       "50%      98.300000   74.000000\n",
       "75%      98.700000   79.000000\n",
       "max     100.800000   89.000000"
      ]
     },
     "execution_count": 9,
     "metadata": {},
     "output_type": "execute_result"
    }
   ],
   "source": [
    "df.describe()"
   ]
  },
  {
   "cell_type": "code",
   "execution_count": 10,
   "metadata": {
    "collapsed": false
   },
   "outputs": [
    {
     "data": {
      "text/plain": [
       "count    130.000000\n",
       "mean      98.249231\n",
       "std        0.733183\n",
       "min       96.300000\n",
       "25%       97.800000\n",
       "50%       98.300000\n",
       "75%       98.700000\n",
       "max      100.800000\n",
       "Name: temperature, dtype: float64"
      ]
     },
     "execution_count": 10,
     "metadata": {},
     "output_type": "execute_result"
    }
   ],
   "source": [
    "df.temperature.describe()"
   ]
  },
  {
   "cell_type": "markdown",
   "metadata": {},
   "source": [
    "# Let's create a histogram to see whether it follows a normal distribution or not"
   ]
  },
  {
   "cell_type": "code",
   "execution_count": 11,
   "metadata": {
    "collapsed": false,
    "scrolled": true
   },
   "outputs": [
    {
     "data": {
      "text/plain": [
       "125     96.3\n",
       "39      96.4\n",
       "11      96.7\n",
       "105     96.7\n",
       "95      96.8\n",
       "42      96.9\n",
       "106     97.0\n",
       "85      97.1\n",
       "93      97.1\n",
       "49      97.1\n",
       "43      97.2\n",
       "123     97.2\n",
       "18      97.2\n",
       "109     97.3\n",
       "46      97.4\n",
       "65      97.4\n",
       "47      97.4\n",
       "78      97.4\n",
       "66      97.4\n",
       "124     97.5\n",
       "82      97.5\n",
       "59      97.6\n",
       "104     97.6\n",
       "79      97.6\n",
       "31      97.6\n",
       "71      97.7\n",
       "120     97.7\n",
       "126     97.7\n",
       "117     97.8\n",
       "90      97.8\n",
       "       ...  \n",
       "7       98.8\n",
       "92      98.8\n",
       "56      98.8\n",
       "110     98.8\n",
       "73      98.8\n",
       "15      98.8\n",
       "75      98.8\n",
       "80      98.8\n",
       "98      98.8\n",
       "69      98.9\n",
       "50      98.9\n",
       "122     99.0\n",
       "114     99.0\n",
       "44      99.0\n",
       "100     99.0\n",
       "74      99.0\n",
       "60      99.1\n",
       "113     99.1\n",
       "36      99.1\n",
       "5       99.2\n",
       "83      99.2\n",
       "3       99.2\n",
       "0       99.3\n",
       "34      99.3\n",
       "103     99.4\n",
       "19      99.4\n",
       "35      99.5\n",
       "96      99.9\n",
       "91     100.0\n",
       "116    100.8\n",
       "Name: temperature, dtype: float64"
      ]
     },
     "execution_count": 11,
     "metadata": {},
     "output_type": "execute_result"
    }
   ],
   "source": [
    "temp_observe=df.temperature.sort_values()\n",
    "temp_observe"
   ]
  },
  {
   "cell_type": "code",
   "execution_count": 12,
   "metadata": {
    "collapsed": false
   },
   "outputs": [
    {
     "data": {
      "text/plain": [
       "array([  96.3 ,   96.35,   96.4 ,   96.45,   96.5 ,   96.55,   96.6 ,\n",
       "         96.65,   96.7 ,   96.75,   96.8 ,   96.85,   96.9 ,   96.95,\n",
       "         97.  ,   97.05,   97.1 ,   97.15,   97.2 ,   97.25,   97.3 ,\n",
       "         97.35,   97.4 ,   97.45,   97.5 ,   97.55,   97.6 ,   97.65,\n",
       "         97.7 ,   97.75,   97.8 ,   97.85,   97.9 ,   97.95,   98.  ,\n",
       "         98.05,   98.1 ,   98.15,   98.2 ,   98.25,   98.3 ,   98.35,\n",
       "         98.4 ,   98.45,   98.5 ,   98.55,   98.6 ,   98.65,   98.7 ,\n",
       "         98.75,   98.8 ,   98.85,   98.9 ,   98.95,   99.  ,   99.05,\n",
       "         99.1 ,   99.15,   99.2 ,   99.25,   99.3 ,   99.35,   99.4 ,\n",
       "         99.45,   99.5 ,   99.55,   99.6 ,   99.65,   99.7 ,   99.75,\n",
       "         99.8 ,   99.85,   99.9 ,   99.95,  100.  ,  100.05,  100.1 ,\n",
       "        100.15,  100.2 ,  100.25,  100.3 ,  100.35,  100.4 ,  100.45,\n",
       "        100.5 ,  100.55,  100.6 ,  100.65,  100.7 ,  100.75])"
      ]
     },
     "execution_count": 12,
     "metadata": {},
     "output_type": "execute_result"
    }
   ],
   "source": [
    "bin_values = np.arange(start=temp_observe.min(), stop=temp_observe.max(), step=.05)\n",
    "bin_values"
   ]
  },
  {
   "cell_type": "code",
   "execution_count": 13,
   "metadata": {
    "collapsed": true
   },
   "outputs": [],
   "source": [
    "mu, std = temp_observe.mean(),temp_observe.std()"
   ]
  },
  {
   "cell_type": "code",
   "execution_count": 14,
   "metadata": {
    "collapsed": false
   },
   "outputs": [],
   "source": [
    "p=norm.pdf(temp_observe,mu,std)"
   ]
  },
  {
   "cell_type": "code",
   "execution_count": 15,
   "metadata": {
    "collapsed": false
   },
   "outputs": [
    {
     "data": {
      "text/plain": [
       "<matplotlib.text.Text at 0x1fcbb821470>"
      ]
     },
     "execution_count": 15,
     "metadata": {},
     "output_type": "execute_result"
    }
   ],
   "source": [
    "plt.xlabel('Temperature')\n",
    "#xticks = np.arange(96.0,101.0,0.1)\n",
    "xticks = plt.xticks(np.arange(95.75,101.25,0.25),rotation=90)\n",
    "plt.title(('Distribution of Temperature \\nMean:'+('{:3.6}'.format(str(mu)))+\n",
    "           ' *** Std. Dev:'+('{:1.6}'.format(str(std)))+\n",
    "          ' *** Mode:'+('{:3.6}'.format(str(temp_observe.mode().values[0])))))"
   ]
  },
  {
   "cell_type": "code",
   "execution_count": 16,
   "metadata": {
    "collapsed": false
   },
   "outputs": [
    {
     "data": {
      "image/png": "[encoded data removed]",
      "text/plain": [
       "<matplotlib.figure.Figure at 0x1fcbb75e160>"
      ]
     },
     "metadata": {},
     "output_type": "display_data"
    }
   ],
   "source": [
    "n,bins,patches= plt.hist(temp_observe,bins=bin_values,normed=True,stacked=True)\n",
    "plt.plot(temp_observe, p)\n",
    "plt.show()"
   ]
  },
  {
   "cell_type": "markdown",
   "metadata": {},
   "source": [
    "Now,let's check if the observations follow a Normal Distribution or not using normaltest from </p>"
   ]
  },
  {
   "cell_type": "code",
   "execution_count": 17,
   "metadata": {
    "collapsed": false
   },
   "outputs": [],
   "source": [
    "k2,p=scipy.stats.normaltest(temp_observe)"
   ]
  },
  {
   "cell_type": "code",
   "execution_count": 18,
   "metadata": {
    "collapsed": false
   },
   "outputs": [
    {
     "name": "stdout",
     "output_type": "stream",
     "text": [
      "0.258747986349\n"
     ]
    }
   ],
   "source": [
    "print(p)"
   ]
  },
  {
   "cell_type": "markdown",
   "metadata": {},
   "source": [
    "The above p value shows that the observations follow a Normal Distribution"
   ]
  },
  {
   "cell_type": "code",
   "execution_count": 19,
   "metadata": {
    "collapsed": false
   },
   "outputs": [
    {
     "data": {
      "text/plain": [
       "130"
      ]
     },
     "execution_count": 19,
     "metadata": {},
     "output_type": "execute_result"
    }
   ],
   "source": [
    "len(df)"
   ]
  },
  {
   "cell_type": "code",
   "execution_count": 20,
   "metadata": {
    "collapsed": false
   },
   "outputs": [
    {
     "data": {
      "text/html": [
       "<div>\n",
       "<table border=\"1\" class=\"dataframe\">\n",
       "  <thead>\n",
       "    <tr style=\"text-align: right;\">\n",
       "      <th></th>\n",
       "      <th>temperature</th>\n",
       "      <th>gender</th>\n",
       "      <th>heart_rate</th>\n",
       "    </tr>\n",
       "  </thead>\n",
       "  <tbody>\n",
       "  </tbody>\n",
       "</table>\n",
       "</div>"
      ],
      "text/plain": [
       "Empty DataFrame\n",
       "Columns: [temperature, gender, heart_rate]\n",
       "Index: []"
      ]
     },
     "execution_count": 20,
     "metadata": {},
     "output_type": "execute_result"
    }
   ],
   "source": [
    "df[df.temperature.isnull()]"
   ]
  },
  {
   "cell_type": "markdown",
   "metadata": {},
   "source": [
    "There are in total 130 observations in the given dataset.If a sample size is more than 30,then it is considered to be large enough.Therefore,it is safe to say that the sample is large enough.\n",
    "\n",
    "Each random variable in this sample and population measures the temperature of human which are independent to each other and therefore are independent observations.\n",
    "\n",
    "The purpose of this exercise is to compare the mean temperature of given sample with generally accepted human body temperature of 98.6 degrees.We have to use a One Sample Significance Test because we compare if a value falls within possible values of a given population parameters.This is not a case where we intervene in a group and check if the group characteristics have changed due to the intervention, if this were the case, we would have used a two-sample test.\n",
    "\n",
    "To check if the true population $mean(μ)$ is really $98.6$ degrees F, we have to compare if the sample mean$(x̄)$ lies within statistically insignficant range of population mean. The hypothesis test is\n",
    "\n",
    "$H$o$ = $Population mean(μ)$= $Sample mean(x̄)$\n",
    "\n",
    "$H$a=  $Population mean(μ) ≠ Sample mean (x̄)$\n",
    "\n",
    "In this case\n",
    "    >the sample observations follow a Normal distribution\n",
    "    >the sample size n is large\n",
    "    >we do not know the population $standard deviation(σ)$.\n",
    "    so, we will use a $t statistic$\n",
    "The t statistic is calculated as  $t = (x̄ - μ) / (S /√n)$.\n",
    "The two-tailed critical t value for a 95% Confidence Interval and 129 degrees of freedom is approx. $1.980$\n",
    "\n"
   ]
  },
  {
   "cell_type": "markdown",
   "metadata": {},
   "source": [
    "To calculate the $t-statistic$"
   ]
  },
  {
   "cell_type": "code",
   "execution_count": 21,
   "metadata": {
    "collapsed": false
   },
   "outputs": [
    {
     "data": {
      "text/plain": [
       "-5.454823292364301"
      ]
     },
     "execution_count": 21,
     "metadata": {},
     "output_type": "execute_result"
    }
   ],
   "source": [
    "(temp_observe.mean()-98.6) / (temp_observe.std()/math.sqrt(130))"
   ]
  },
  {
   "cell_type": "markdown",
   "metadata": {},
   "source": [
    "Calculating the t-statistic using $ttest_1samp$ from $scipy.stats$"
   ]
  },
  {
   "cell_type": "code",
   "execution_count": 22,
   "metadata": {
    "collapsed": false
   },
   "outputs": [
    {
     "data": {
      "text/plain": [
       "Ttest_1sampResult(statistic=-5.4548232923640771, pvalue=2.4106320415610081e-07)"
      ]
     },
     "execution_count": 22,
     "metadata": {},
     "output_type": "execute_result"
    }
   ],
   "source": [
    "scipy.stats.ttest_1samp(temp_observe,98.6)"
   ]
  },
  {
   "cell_type": "markdown",
   "metadata": {},
   "source": [
    "From the above we can see that the calculated $t-value$ is -5.454 for this sample and is beyond the critical $t-value$ of -1.980.The p value of this is 2.410632.\n",
    "\n",
    "Therefore,we can reject the $Null$ $Hypothesis$.So, we can conclude that the generally accepted human body temperature is most \n",
    "probably $incorrect$.\n",
    "\n",
    "We would have used the $z-statistic$ if\n",
    " 1.the sample size was >30\n",
    " 2.The population standard deviation (σ) is known In this particular problem, the $σ$ is unknown , \n",
    "   however, since the sample size is reasonably large (i.e. n= 130), we can approximate $σ$ to the sample standard deviation to be S / √n\n",
    "   \n",
    "  The z statistic is calculated as $Z$ = $(X  −  μ0)$ /($S$/√n)\n",
    "  The ciritical z statistic or, the z statistic for a 95% CI (two tailed) is 1.96. If the calculated z is greater than this, \n",
    "  then we can reject $H$o"
   ]
  },
  {
   "cell_type": "markdown",
   "metadata": {},
   "source": [
    "The $Z-statistic$ would be"
   ]
  },
  {
   "cell_type": "code",
   "execution_count": 23,
   "metadata": {
    "collapsed": false
   },
   "outputs": [
    {
     "data": {
      "text/plain": [
       "-5.454823292364301"
      ]
     },
     "execution_count": 23,
     "metadata": {},
     "output_type": "execute_result"
    }
   ],
   "source": [
    "(temp_observe.mean()-98.6) / (temp_observe.std()/math.sqrt(130))"
   ]
  },
  {
   "cell_type": "markdown",
   "metadata": {},
   "source": [
    "Start by computing the margin of error and confidence interval\n",
    "95% Confidence Interval $t-distribution$ for 129 degrees of freedom critical value is 1.980. \n",
    "The confidence interval will be $μ$ ± (talpha X Standard Error)"
   ]
  },
  {
   "cell_type": "markdown",
   "metadata": {},
   "source": [
    "# 95% Confidence Interval"
   ]
  },
  {
   "cell_type": "code",
   "execution_count": 24,
   "metadata": {
    "collapsed": false
   },
   "outputs": [
    {
     "data": {
      "text/plain": [
       "(98.12190802389173, 98.37655351456979)"
      ]
     },
     "execution_count": 24,
     "metadata": {},
     "output_type": "execute_result"
    }
   ],
   "source": [
    "temp_observe.mean()-(1.980*(temp_observe.std()/math.sqrt(130))),temp_observe.mean()+(1.980*temp_observe.std()/math.sqrt(130))"
   ]
  },
  {
   "cell_type": "markdown",
   "metadata": {},
   "source": [
    "Checking the above calculation using scipy.stats.norm.interval method"
   ]
  },
  {
   "cell_type": "code",
   "execution_count": 25,
   "metadata": {
    "collapsed": false
   },
   "outputs": [
    {
     "data": {
      "text/plain": [
       "(98.123196428181643, 98.375265110279884)"
      ]
     },
     "execution_count": 25,
     "metadata": {},
     "output_type": "execute_result"
    }
   ],
   "source": [
    "scipy.stats.norm.interval(0.95,temp_observe.mean(),scipy.stats.sem(temp_observe))"
   ]
  },
  {
   "cell_type": "markdown",
   "metadata": {},
   "source": [
    "\n",
    "From the above calculations, anyone whose body temperature is outside the range (98.12, 98.37) can be considered not to be with normal body temperature"
   ]
  },
  {
   "cell_type": "code",
   "execution_count": 26,
   "metadata": {
    "collapsed": false
   },
   "outputs": [
    {
     "data": {
      "text/plain": [
       "65"
      ]
     },
     "execution_count": 26,
     "metadata": {},
     "output_type": "execute_result"
    }
   ],
   "source": [
    "len(df[df.gender=='F'])"
   ]
  },
  {
   "cell_type": "code",
   "execution_count": 27,
   "metadata": {
    "collapsed": false
   },
   "outputs": [
    {
     "data": {
      "text/plain": [
       "65"
      ]
     },
     "execution_count": 27,
     "metadata": {},
     "output_type": "execute_result"
    }
   ],
   "source": [
    "len(df[df.gender=='M'])"
   ]
  },
  {
   "cell_type": "code",
   "execution_count": 28,
   "metadata": {
    "collapsed": false
   },
   "outputs": [
    {
     "data": {
      "text/html": [
       "<div>\n",
       "<table border=\"1\" class=\"dataframe\">\n",
       "  <thead>\n",
       "    <tr style=\"text-align: right;\">\n",
       "      <th></th>\n",
       "      <th>temperature</th>\n",
       "      <th>gender</th>\n",
       "      <th>heart_rate</th>\n",
       "    </tr>\n",
       "  </thead>\n",
       "  <tbody>\n",
       "    <tr>\n",
       "      <th>2</th>\n",
       "      <td>97.8</td>\n",
       "      <td>M</td>\n",
       "      <td>73.0</td>\n",
       "    </tr>\n",
       "    <tr>\n",
       "      <th>5</th>\n",
       "      <td>99.2</td>\n",
       "      <td>M</td>\n",
       "      <td>83.0</td>\n",
       "    </tr>\n",
       "    <tr>\n",
       "      <th>6</th>\n",
       "      <td>98.0</td>\n",
       "      <td>M</td>\n",
       "      <td>71.0</td>\n",
       "    </tr>\n",
       "    <tr>\n",
       "      <th>7</th>\n",
       "      <td>98.8</td>\n",
       "      <td>M</td>\n",
       "      <td>78.0</td>\n",
       "    </tr>\n",
       "    <tr>\n",
       "      <th>12</th>\n",
       "      <td>98.2</td>\n",
       "      <td>M</td>\n",
       "      <td>72.0</td>\n",
       "    </tr>\n",
       "  </tbody>\n",
       "</table>\n",
       "</div>"
      ],
      "text/plain": [
       "    temperature gender  heart_rate\n",
       "2          97.8      M        73.0\n",
       "5          99.2      M        83.0\n",
       "6          98.0      M        71.0\n",
       "7          98.8      M        78.0\n",
       "12         98.2      M        72.0"
      ]
     },
     "execution_count": 28,
     "metadata": {},
     "output_type": "execute_result"
    }
   ],
   "source": [
    "df_mpop = df[df.gender=='M']\n",
    "df_mpop.head()"
   ]
  },
  {
   "cell_type": "code",
   "execution_count": 29,
   "metadata": {
    "collapsed": false
   },
   "outputs": [
    {
     "data": {
      "text/html": [
       "<div>\n",
       "<table border=\"1\" class=\"dataframe\">\n",
       "  <thead>\n",
       "    <tr style=\"text-align: right;\">\n",
       "      <th></th>\n",
       "      <th>temperature</th>\n",
       "      <th>gender</th>\n",
       "      <th>heart_rate</th>\n",
       "    </tr>\n",
       "  </thead>\n",
       "  <tbody>\n",
       "    <tr>\n",
       "      <th>0</th>\n",
       "      <td>99.3</td>\n",
       "      <td>F</td>\n",
       "      <td>68.0</td>\n",
       "    </tr>\n",
       "    <tr>\n",
       "      <th>1</th>\n",
       "      <td>98.4</td>\n",
       "      <td>F</td>\n",
       "      <td>81.0</td>\n",
       "    </tr>\n",
       "    <tr>\n",
       "      <th>3</th>\n",
       "      <td>99.2</td>\n",
       "      <td>F</td>\n",
       "      <td>66.0</td>\n",
       "    </tr>\n",
       "    <tr>\n",
       "      <th>4</th>\n",
       "      <td>98.0</td>\n",
       "      <td>F</td>\n",
       "      <td>73.0</td>\n",
       "    </tr>\n",
       "    <tr>\n",
       "      <th>8</th>\n",
       "      <td>98.4</td>\n",
       "      <td>F</td>\n",
       "      <td>84.0</td>\n",
       "    </tr>\n",
       "  </tbody>\n",
       "</table>\n",
       "</div>"
      ],
      "text/plain": [
       "   temperature gender  heart_rate\n",
       "0         99.3      F        68.0\n",
       "1         98.4      F        81.0\n",
       "3         99.2      F        66.0\n",
       "4         98.0      F        73.0\n",
       "8         98.4      F        84.0"
      ]
     },
     "execution_count": 29,
     "metadata": {},
     "output_type": "execute_result"
    }
   ],
   "source": [
    "df_fpop=df[df.gender == 'F']\n",
    "df_fpop.head()"
   ]
  },
  {
   "cell_type": "markdown",
   "metadata": {},
   "source": [
    "Use a Two Sample t test Hypothesis to check if the there is a significant difference in the normal temperature between male and female. Steps:\n",
    "\n",
    "1.Setup the $H$o - in this case, it will be $Sample Mean$m = $Sample Mean$f\n",
    "\n",
    "2.Find the mean of the two samples and their difference\n",
    "\n",
    "3.Find the Standard  Error of the distribution of the differencec in means of these two sample populations\n",
    "\n",
    "4.Check if the difference in means lies outside the critical value for 95% Confidence Interval; if it does, the null hypothesis can be rejected"
   ]
  },
  {
   "cell_type": "code",
   "execution_count": 38,
   "metadata": {
    "collapsed": false
   },
   "outputs": [],
   "source": [
    "mtemp_observe = df_mpop.temperature;ftemp_observe = df_fpop.temperature"
   ]
  },
  {
   "cell_type": "code",
   "execution_count": 39,
   "metadata": {
    "collapsed": false
   },
   "outputs": [
    {
     "data": {
      "text/plain": [
       "(2     97.8\n",
       " 5     99.2\n",
       " 6     98.0\n",
       " 7     98.8\n",
       " 12    98.2\n",
       " Name: temperature, dtype: float64, 0    99.3\n",
       " 1    98.4\n",
       " 3    99.2\n",
       " 4    98.0\n",
       " 8    98.4\n",
       " Name: temperature, dtype: float64)"
      ]
     },
     "execution_count": 39,
     "metadata": {},
     "output_type": "execute_result"
    }
   ],
   "source": [
    "mtemp_observe.head(),ftemp_observe.head()"
   ]
  },
  {
   "cell_type": "markdown",
   "metadata": {},
   "source": [
    "Let's find the mean and standard deviation for both the male and female population"
   ]
  },
  {
   "cell_type": "code",
   "execution_count": 41,
   "metadata": {
    "collapsed": false
   },
   "outputs": [
    {
     "data": {
      "text/plain": [
       "(98.1046153846154, 98.39384615384613, 0.289230769230727)"
      ]
     },
     "execution_count": 41,
     "metadata": {},
     "output_type": "execute_result"
    }
   ],
   "source": [
    "mtemp_observe.mean(),ftemp_observe.mean(),ftemp_observe.mean()-mtemp_observe.mean()"
   ]
  },
  {
   "cell_type": "markdown",
   "metadata": {},
   "source": [
    "Standard Deviation of both the samples"
   ]
  },
  {
   "cell_type": "code",
   "execution_count": 42,
   "metadata": {
    "collapsed": false
   },
   "outputs": [
    {
     "data": {
      "text/plain": [
       "(0.7434877527313665, 0.6987557623265908)"
      ]
     },
     "execution_count": 42,
     "metadata": {},
     "output_type": "execute_result"
    }
   ],
   "source": [
    "ftemp_observe.std(),mtemp_observe.std()"
   ]
  },
  {
   "cell_type": "markdown",
   "metadata": {},
   "source": [
    "The degrees of freedom for n1=n2=30 and Standard Deviation of n1,n2 = (0.7434877527313665, 0.6987557623265908) is 127.5103"
   ]
  },
  {
   "cell_type": "markdown",
   "metadata": {},
   "source": [
    "The Standard Deviation of the distribution of the difference in these two population;as the population variance is not known,\n",
    "sample variance is used as an estimate of the populaton variance\n",
    "Margin of Error is"
   ]
  },
  {
   "cell_type": "code",
   "execution_count": 43,
   "metadata": {
    "collapsed": false
   },
   "outputs": [
    {
     "data": {
      "text/plain": [
       "1.0203105673500361"
      ]
     },
     "execution_count": 43,
     "metadata": {},
     "output_type": "execute_result"
    }
   ],
   "source": [
    "math.sqrt(mtemp_observe.var()+ftemp_observe.var())"
   ]
  },
  {
   "cell_type": "markdown",
   "metadata": {},
   "source": [
    "The two-tailed critical $t$ value for a 95% CI and 127 degrees of freedom is approx. 1.980;\n",
    "if the difference in mean is above the $Standard Error$, i.e. critical $t$ value $*$ Margin of Error then we can reject $H$o"
   ]
  },
  {
   "cell_type": "markdown",
   "metadata": {},
   "source": [
    "Temperature Difference at the critical t value"
   ]
  },
  {
   "cell_type": "code",
   "execution_count": 45,
   "metadata": {
    "collapsed": false
   },
   "outputs": [
    {
     "data": {
      "text/plain": [
       "0.25057682183125635"
      ]
     },
     "execution_count": 45,
     "metadata": {},
     "output_type": "execute_result"
    }
   ],
   "source": [
    "1.980*(math.sqrt(mtemp_obs.var()+ftemp_obs.var())/math.sqrt(65))"
   ]
  },
  {
   "cell_type": "markdown",
   "metadata": {},
   "source": [
    "Since, the observed difference is greater than 95% Confidence Interval,therefore $H$o can be safely rejected.\n",
    "Therefore,there is a significance difference between Male and Female Body Temperature."
   ]
  },
  {
   "cell_type": "markdown",
   "metadata": {},
   "source": [
    "The t-value for the observed difference"
   ]
  },
  {
   "cell_type": "code",
   "execution_count": 47,
   "metadata": {
    "collapsed": false
   },
   "outputs": [
    {
     "data": {
      "text/plain": [
       "2.2854345381652736"
      ]
     },
     "execution_count": 47,
     "metadata": {},
     "output_type": "execute_result"
    }
   ],
   "source": [
    "(0.289230769230727)/(math.sqrt(mtemp_observe.var()+ftemp_observe.var())/math.sqrt(65))"
   ]
  },
  {
   "cell_type": "markdown",
   "metadata": {},
   "source": [
    "Validating with scipy.stats.ttest_ind"
   ]
  },
  {
   "cell_type": "code",
   "execution_count": 48,
   "metadata": {
    "collapsed": false
   },
   "outputs": [
    {
     "data": {
      "text/plain": [
       "Ttest_indResult(statistic=2.2854345381656103, pvalue=0.023931883122395609)"
      ]
     },
     "execution_count": 48,
     "metadata": {},
     "output_type": "execute_result"
    }
   ],
   "source": [
    "scipy.stats.ttest_ind(ftemp_obs,mtemp_obs)"
   ]
  }
 ],
 "metadata": {
  "kernelspec": {
   "display_name": "Python 3",
   "language": "python",
   "name": "python3"
  },
  "language_info": {
   "codemirror_mode": {
    "name": "ipython",
    "version": 3
   },
   "file_extension": ".py",
   "mimetype": "text/x-python",
   "name": "python",
   "nbconvert_exporter": "python",
   "pygments_lexer": "ipython3",
   "version": "3.6.0"
  }
 },
 "nbformat": 4,
 "nbformat_minor": 0
}
